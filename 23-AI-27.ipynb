{
  "nbformat": 4,
  "nbformat_minor": 0,
  "metadata": {
    "colab": {
      "provenance": []
    },
    "kernelspec": {
      "name": "python3",
      "display_name": "Python 3"
    },
    "language_info": {
      "name": "python"
    }
  },
  "cells": [
    {
      "cell_type": "code",
      "execution_count": 14,
      "metadata": {
        "colab": {
          "base_uri": "https://localhost:8080/"
        },
        "id": "hsLoRUMKceX7",
        "outputId": "b795b3cd-17dc-4ec8-95a2-9f6c90de4833"
      },
      "outputs": [
        {
          "output_type": "stream",
          "name": "stdout",
          "text": [
            "True\n",
            "False\n",
            "False\n",
            "True\n"
          ]
        }
      ],
      "source": [
        "def followPattern(pattern, s):\n",
        "    words = s.split()\n",
        "    # Check the length of pattern and word, if it is not equal return False\n",
        "    if len(pattern)!= len(words):\n",
        "        return False\n",
        "    # Initialize dictionaries by hash map\n",
        "    charToWord = {}\n",
        "    wordToChar = {}\n",
        "    # Iterate over words and pattern\n",
        "    for char, word in zip(pattern, words):\n",
        "      # Check if character is already mapped to a word\n",
        "        if char in charToWord:\n",
        "          if charToWord[char]!= word:\n",
        "                return False\n",
        "        else:\n",
        "            charToWord[char] = word\n",
        "            # Check if word is already mapped to a character\n",
        "        if word in wordToChar:\n",
        "            if wordToChar[word]!= char:\n",
        "                return False\n",
        "        else:\n",
        "            wordToChar[word] = char\n",
        "    # Return True if no issue\n",
        "    return True\n",
        "\n",
        "print(followPattern(\"abba\", \"dog cat cat dog\" ))\n",
        "print(followPattern(\"abba\", \"dog cat cat fish\" ))\n",
        "print(followPattern(\"aaaa\", \"dog cat cat dog\" ))\n",
        "print(followPattern(\"abc\", \"1 2 3\" ))"
      ]
    }
  ]
}